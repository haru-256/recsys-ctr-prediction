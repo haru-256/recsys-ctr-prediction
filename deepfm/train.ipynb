{
 "cells": [
  {
   "cell_type": "code",
   "execution_count": 1,
   "metadata": {},
   "outputs": [],
   "source": [
    "%load_ext autoreload"
   ]
  },
  {
   "cell_type": "code",
   "execution_count": 2,
   "metadata": {},
   "outputs": [],
   "source": [
    "%autoreload 2\n",
    "\n",
    "import pathlib\n",
    "\n",
    "import torch\n",
    "import torch.nn as nn\n",
    "import torch.nn.functional as F\n",
    "from torch.utils.data import DataLoader\n",
    "from torchinfo import summary\n",
    "from sklearn.metrics import roc_auc_score, average_precision_score, accuracy_score\n",
    "from tqdm.notebook import tqdm\n",
    "import pandas as pd\n",
    "import numpy as np\n",
    "\n",
    "from dataset import CriteoAdDataset, CategoryEncoder\n",
    "from model import DeepFM"
   ]
  },
  {
   "cell_type": "markdown",
   "metadata": {},
   "source": [
    "## Dataset"
   ]
  },
  {
   "cell_type": "code",
   "execution_count": 3,
   "metadata": {},
   "outputs": [],
   "source": [
    "data_dir = pathlib.Path(\"../data/criteo-ad-data\")\n",
    "\n",
    "category_encoder = CategoryEncoder()\n",
    "train_dataset = CriteoAdDataset(\n",
    "    data_dir, type=\"train\", nums=10000, category_encoder=category_encoder\n",
    ")\n",
    "train_dataloader = DataLoader(train_dataset, batch_size=10, shuffle=True)\n",
    "val_dataset = CriteoAdDataset(data_dir, type=\"val\", nums=10000, category_encoder=category_encoder)\n",
    "val_dataloader = DataLoader(val_dataset, batch_size=10, shuffle=False)\n"
   ]
  },
  {
   "cell_type": "code",
   "execution_count": 4,
   "metadata": {},
   "outputs": [
    {
     "data": {
      "text/plain": [
       "(torch.Size([10]), torch.Size([10, 13]), torch.Size([10, 26]))"
      ]
     },
     "execution_count": 4,
     "metadata": {},
     "output_type": "execute_result"
    }
   ],
   "source": [
    "label, count_features, category_features = next(iter(train_dataloader))\n",
    "label.shape, count_features.shape, category_features.shape\n"
   ]
  },
  {
   "cell_type": "markdown",
   "metadata": {},
   "source": [
    "## Model"
   ]
  },
  {
   "cell_type": "code",
   "execution_count": 5,
   "metadata": {},
   "outputs": [],
   "source": [
    "embedding_dims = 20\n",
    "category_feature_names = train_dataset.category_feature_columns\n",
    "category_cardinalities = train_dataset.category_cardinalities\n",
    "\n",
    "dense_embedding_in_features = len(train_dataset.count_feature_columns)\n",
    "dense_embedding_hidden_features = 30\n",
    "deep_layer_out_features = 10\n",
    "\n",
    "model = DeepFM(\n",
    "    embedding_dims=embedding_dims,\n",
    "    category_cardinalities=category_cardinalities,\n",
    "    dense_embedding_in_features=dense_embedding_in_features,\n",
    "    dense_embedding_hidden_features=dense_embedding_hidden_features,\n",
    "    deep_layer_out_features=deep_layer_out_features,\n",
    ")\n"
   ]
  },
  {
   "cell_type": "code",
   "execution_count": 6,
   "metadata": {},
   "outputs": [
    {
     "data": {
      "text/plain": [
       "=================================================================\n",
       "Layer (type:depth-idx)                   Param #\n",
       "=================================================================\n",
       "DeepFM                                   --\n",
       "├─SparseEmbedding: 1-1                   --\n",
       "│    └─ModuleDict: 2-1                   --\n",
       "│    │    └─EmbeddingBag: 3-1            3,520\n",
       "│    │    └─EmbeddingBag: 3-2            7,740\n",
       "│    │    └─EmbeddingBag: 3-3            41,700\n",
       "│    │    └─EmbeddingBag: 3-4            105,700\n",
       "│    │    └─EmbeddingBag: 3-5            34,520\n",
       "│    │    └─EmbeddingBag: 3-6            500\n",
       "│    │    └─EmbeddingBag: 3-7            40,720\n",
       "│    │    └─EmbeddingBag: 3-8            94,500\n",
       "│    │    └─EmbeddingBag: 3-9            200\n",
       "│    │    └─EmbeddingBag: 3-10           23,000\n",
       "│    │    └─EmbeddingBag: 3-11           10,960\n",
       "│    │    └─EmbeddingBag: 3-12           100\n",
       "│    │    └─EmbeddingBag: 3-13           110,440\n",
       "│    │    └─EmbeddingBag: 3-14           100,760\n",
       "│    │    └─EmbeddingBag: 3-15           180\n",
       "│    │    └─EmbeddingBag: 3-16           260\n",
       "│    │    └─EmbeddingBag: 3-17           50,520\n",
       "│    │    └─EmbeddingBag: 3-18           820\n",
       "│    │    └─EmbeddingBag: 3-19           38,800\n",
       "│    │    └─EmbeddingBag: 3-20           80,680\n",
       "│    │    └─EmbeddingBag: 3-21           1,140\n",
       "│    │    └─EmbeddingBag: 3-22           180\n",
       "│    │    └─EmbeddingBag: 3-23           63,700\n",
       "│    │    └─EmbeddingBag: 3-24           1,880\n",
       "│    │    └─EmbeddingBag: 3-25           80\n",
       "│    │    └─EmbeddingBag: 3-26           59,740\n",
       "├─DenseEmbedding: 1-2                    --\n",
       "│    └─Sequential: 2-2                   --\n",
       "│    │    └─Linear: 3-27                 420\n",
       "│    │    └─ReLU: 3-28                   --\n",
       "│    │    └─Linear: 3-29                 620\n",
       "│    │    └─ReLU: 3-30                   --\n",
       "├─DeepLayer: 1-3                         --\n",
       "│    └─Sequential: 2-3                   --\n",
       "│    │    └─Linear: 3-31                 5,410\n",
       "│    │    └─ReLU: 3-32                   --\n",
       "├─FactorizedMachineLayer: 1-4            --\n",
       "├─LogitsLayer: 1-5                       --\n",
       "│    └─Sequential: 2-4                   --\n",
       "│    │    └─Linear: 3-33                 32\n",
       "=================================================================\n",
       "Total params: 878,822\n",
       "Trainable params: 878,822\n",
       "Non-trainable params: 0\n",
       "================================================================="
      ]
     },
     "execution_count": 6,
     "metadata": {},
     "output_type": "execute_result"
    }
   ],
   "source": [
    "summary(\n",
    "    model,\n",
    "    count_features=count_features,\n",
    "    category_features=category_features,\n",
    "    category_feature_names=category_feature_names,\n",
    ")\n"
   ]
  },
  {
   "cell_type": "markdown",
   "metadata": {},
   "source": [
    "## Train"
   ]
  },
  {
   "cell_type": "code",
   "execution_count": 7,
   "metadata": {},
   "outputs": [],
   "source": [
    "def train(\n",
    "    train_dataloader: DataLoader,\n",
    "    model: nn.Module,\n",
    "    criterion: nn.Module,\n",
    "    optimizer: torch.optim.Optimizer,\n",
    "    log_interval: int = 10000,\n",
    "):\n",
    "    size = len(train_dataloader.dataset)\n",
    "    sum_loss = 0\n",
    "    for batch, (labels, count_features, category_features) in tqdm(\n",
    "        enumerate(train_dataloader, 1), total=len(train_dataloader), unit=\"iter\"\n",
    "    ):\n",
    "        model.train()\n",
    "        logits = model(\n",
    "            count_features=count_features,\n",
    "            category_features=category_features,\n",
    "            category_feature_names=category_feature_names,\n",
    "        )\n",
    "        loss = criterion(logits.squeeze(), labels.float())\n",
    "        optimizer.zero_grad()\n",
    "        loss.backward()\n",
    "        # to prevent gradient explosion\n",
    "        nn.utils.clip_grad_norm_(model.parameters(), 10)\n",
    "        optimizer.step()\n",
    "\n",
    "        sum_loss += loss.item()\n",
    "\n",
    "        if batch % log_interval == 0:\n",
    "            mean_loss = sum_loss / log_interval\n",
    "            tqdm.write(f\"loss: {mean_loss:>7f} [{batch * len(labels):>5d}/{size:>5d}]\")\n",
    "            sum_loss = 0\n",
    "\n",
    "\n",
    "def eval(dataloader: DataLoader, model: nn.Module, criterion: nn.Module):\n",
    "    model.eval()\n",
    "    sum_loss = 0\n",
    "    num_batches = len(dataloader)\n",
    "    labels_list = []\n",
    "    preds_list = []\n",
    "    with torch.no_grad():\n",
    "        for labels, count_features, category_features in tqdm(\n",
    "            dataloader, total=len(dataloader), unit=\"iter\"\n",
    "        ):\n",
    "            logits = model(\n",
    "                count_features=count_features,\n",
    "                category_features=category_features,\n",
    "                category_feature_names=category_feature_names,\n",
    "            )\n",
    "            preds = F.sigmoid(logits.squeeze())\n",
    "            sum_loss += criterion(preds, labels.float()).item()\n",
    "\n",
    "            labels_list.extend(labels.tolist())\n",
    "            preds_list.extend(preds.tolist())\n",
    "\n",
    "    mean_loss = sum_loss / num_batches\n",
    "    accuracy = accuracy_score(labels_list, np.round(np.asarray(preds_list)))\n",
    "    roc_auc = roc_auc_score(labels_list, preds_list)\n",
    "    pr_auc = average_precision_score(labels_list, preds_list)\n",
    "\n",
    "    return mean_loss, accuracy, roc_auc, pr_auc\n"
   ]
  },
  {
   "cell_type": "code",
   "execution_count": 8,
   "metadata": {},
   "outputs": [
    {
     "data": {
      "application/vnd.jupyter.widget-view+json": {
       "model_id": "5c8fa40ca400400282407113f25144da",
       "version_major": 2,
       "version_minor": 0
      },
      "text/plain": [
       "  0%|          | 0/3 [00:00<?, ?epoch/s]"
      ]
     },
     "metadata": {},
     "output_type": "display_data"
    },
    {
     "data": {
      "application/vnd.jupyter.widget-view+json": {
       "model_id": "a0da68d6582f4fc5a2b06b0ceacb05bf",
       "version_major": 2,
       "version_minor": 0
      },
      "text/plain": [
       "  0%|          | 0/1000 [00:00<?, ?iter/s]"
      ]
     },
     "metadata": {},
     "output_type": "display_data"
    },
    {
     "data": {
      "application/vnd.jupyter.widget-view+json": {
       "model_id": "5f213a12aa0d454695f7596e82b1775e",
       "version_major": 2,
       "version_minor": 0
      },
      "text/plain": [
       "  0%|          | 0/1000 [00:00<?, ?iter/s]"
      ]
     },
     "metadata": {},
     "output_type": "display_data"
    },
    {
     "name": "stdout",
     "output_type": "stream",
     "text": [
      "Train | avg loss: 0.7432, accuracy: 0.7851, roc_auc: 0.7214, pr_auc: 0.4261\n"
     ]
    },
    {
     "data": {
      "application/vnd.jupyter.widget-view+json": {
       "model_id": "d156d58382574026a84c6a4ea8f8676b",
       "version_major": 2,
       "version_minor": 0
      },
      "text/plain": [
       "  0%|          | 0/1000 [00:00<?, ?iter/s]"
      ]
     },
     "metadata": {},
     "output_type": "display_data"
    },
    {
     "name": "stdout",
     "output_type": "stream",
     "text": [
      "Val | avg loss: 0.7392, accuracy: 0.7412, roc_auc: 0.6448, pr_auc: 0.3849\n"
     ]
    },
    {
     "data": {
      "application/vnd.jupyter.widget-view+json": {
       "model_id": "28dcfcb692b34f9680163ef42f598ca1",
       "version_major": 2,
       "version_minor": 0
      },
      "text/plain": [
       "  0%|          | 0/1000 [00:00<?, ?iter/s]"
      ]
     },
     "metadata": {},
     "output_type": "display_data"
    },
    {
     "data": {
      "application/vnd.jupyter.widget-view+json": {
       "model_id": "3e5ee22181c343dbb2029e505ff3eb4d",
       "version_major": 2,
       "version_minor": 0
      },
      "text/plain": [
       "  0%|          | 0/1000 [00:00<?, ?iter/s]"
      ]
     },
     "metadata": {},
     "output_type": "display_data"
    },
    {
     "name": "stdout",
     "output_type": "stream",
     "text": [
      "Train | avg loss: 0.7431, accuracy: 0.8101, roc_auc: 0.7708, pr_auc: 0.5032\n"
     ]
    },
    {
     "data": {
      "application/vnd.jupyter.widget-view+json": {
       "model_id": "436d3523b24640ebbb248c1fc4e24768",
       "version_major": 2,
       "version_minor": 0
      },
      "text/plain": [
       "  0%|          | 0/1000 [00:00<?, ?iter/s]"
      ]
     },
     "metadata": {},
     "output_type": "display_data"
    },
    {
     "name": "stdout",
     "output_type": "stream",
     "text": [
      "Val | avg loss: 0.7443, accuracy: 0.7421, roc_auc: 0.6407, pr_auc: 0.3839\n"
     ]
    },
    {
     "data": {
      "application/vnd.jupyter.widget-view+json": {
       "model_id": "17866bc1eef8429bb77a5ae26013e34a",
       "version_major": 2,
       "version_minor": 0
      },
      "text/plain": [
       "  0%|          | 0/1000 [00:00<?, ?iter/s]"
      ]
     },
     "metadata": {},
     "output_type": "display_data"
    },
    {
     "data": {
      "application/vnd.jupyter.widget-view+json": {
       "model_id": "febbe3fcf32640a198b50750b1d957a2",
       "version_major": 2,
       "version_minor": 0
      },
      "text/plain": [
       "  0%|          | 0/1000 [00:00<?, ?iter/s]"
      ]
     },
     "metadata": {},
     "output_type": "display_data"
    },
    {
     "name": "stdout",
     "output_type": "stream",
     "text": [
      "Train | avg loss: 0.7332, accuracy: 0.8315, roc_auc: 0.8292, pr_auc: 0.6480\n"
     ]
    },
    {
     "data": {
      "application/vnd.jupyter.widget-view+json": {
       "model_id": "23644f331c084abcbdacd2c0e11b0b03",
       "version_major": 2,
       "version_minor": 0
      },
      "text/plain": [
       "  0%|          | 0/1000 [00:00<?, ?iter/s]"
      ]
     },
     "metadata": {},
     "output_type": "display_data"
    },
    {
     "name": "stdout",
     "output_type": "stream",
     "text": [
      "Val | avg loss: 0.7496, accuracy: 0.7215, roc_auc: 0.6224, pr_auc: 0.3657\n"
     ]
    }
   ],
   "source": [
    "epochs = 3\n",
    "criterion = nn.BCEWithLogitsLoss()\n",
    "optimizer = torch.optim.Adam(model.parameters(), lr=1e-3)\n",
    "\n",
    "for epoch in tqdm(range(epochs), unit=\"epoch\"):\n",
    "    train(train_dataloader, model, criterion, optimizer, log_interval=2000)\n",
    "    mean_loss, accuracy, roc_auc, pr_auc = eval(train_dataloader, model, criterion)\n",
    "    tqdm.write(f\"Train | avg loss: {mean_loss:.4f}, accuracy: {accuracy:.4f}, roc_auc: {roc_auc:.4f}, pr_auc: {pr_auc:.4f}\")\n",
    "    mean_loss, accuracy, roc_auc, pr_auc = eval(val_dataloader, model, criterion)\n",
    "    tqdm.write(f\"Val | avg loss: {mean_loss:.4f}, accuracy: {accuracy:.4f}, roc_auc: {roc_auc:.4f}, pr_auc: {pr_auc:.4f}\")\n"
   ]
  },
  {
   "cell_type": "markdown",
   "metadata": {},
   "source": []
  },
  {
   "cell_type": "code",
   "execution_count": null,
   "metadata": {},
   "outputs": [],
   "source": []
  }
 ],
 "metadata": {
  "kernelspec": {
   "display_name": ".venv",
   "language": "python",
   "name": "python3"
  },
  "language_info": {
   "codemirror_mode": {
    "name": "ipython",
    "version": 3
   },
   "file_extension": ".py",
   "mimetype": "text/x-python",
   "name": "python",
   "nbconvert_exporter": "python",
   "pygments_lexer": "ipython3",
   "version": "3.11.4"
  },
  "orig_nbformat": 4
 },
 "nbformat": 4,
 "nbformat_minor": 2
}
