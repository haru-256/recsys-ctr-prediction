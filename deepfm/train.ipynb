{
 "cells": [
  {
   "cell_type": "code",
   "execution_count": null,
   "metadata": {},
   "outputs": [],
   "source": [
    "%load_ext autoreload"
   ]
  },
  {
   "cell_type": "code",
   "execution_count": null,
   "metadata": {},
   "outputs": [],
   "source": [
    "%autoreload 2\n",
    "\n",
    "import pathlib\n",
    "\n",
    "import torch\n",
    "import torch.nn as nn\n",
    "import torch.nn.functional as F\n",
    "from torch.utils.data import DataLoader\n",
    "from torchinfo import summary\n",
    "from sklearn.metrics import roc_auc_score, average_precision_score, accuracy_score\n",
    "from tqdm.notebook import tqdm\n",
    "import pandas as pd\n",
    "import numpy as np\n",
    "\n",
    "from dataset import CriteoAdDataset\n",
    "from model import DeepFM"
   ]
  },
  {
   "cell_type": "markdown",
   "metadata": {},
   "source": [
    "## Dataset"
   ]
  },
  {
   "cell_type": "code",
   "execution_count": null,
   "metadata": {},
   "outputs": [],
   "source": [
    "data_dir = pathlib.Path(\"data/criteo-ad-data\")\n",
    "train_dataset = CriteoAdDataset(data_dir, type=\"train\", nums=10000)\n",
    "train_dataloader = DataLoader(train_dataset, batch_size=10, shuffle=True)\n",
    "val_dataset = CriteoAdDataset(data_dir, type=\"val\", nums=10000)\n",
    "val_dataloader = DataLoader(val_dataset, batch_size=10, shuffle=False)\n"
   ]
  },
  {
   "cell_type": "code",
   "execution_count": null,
   "metadata": {},
   "outputs": [],
   "source": [
    "label, count_features, category_features = next(iter(train_dataloader))\n",
    "label.shape, count_features.shape, category_features.shape\n"
   ]
  },
  {
   "cell_type": "markdown",
   "metadata": {},
   "source": [
    "## Model"
   ]
  },
  {
   "cell_type": "code",
   "execution_count": null,
   "metadata": {},
   "outputs": [],
   "source": [
    "embedding_dims = 20\n",
    "category_feature_names = train_dataset.category_feature_columns\n",
    "category_cardinalities = train_dataset.category_cardinalities\n",
    "\n",
    "dense_embedding_in_features = len(train_dataset.count_feature_columns)\n",
    "dense_embedding_hidden_features = 30\n",
    "deep_layer_out_features = 10\n",
    "\n",
    "model = DeepFM(\n",
    "    embedding_dims=embedding_dims,\n",
    "    category_cardinalities=category_cardinalities,\n",
    "    dense_embedding_in_features=dense_embedding_in_features,\n",
    "    dense_embedding_hidden_features=dense_embedding_hidden_features,\n",
    "    deep_layer_out_features=deep_layer_out_features,\n",
    ")\n"
   ]
  },
  {
   "cell_type": "code",
   "execution_count": null,
   "metadata": {},
   "outputs": [],
   "source": [
    "summary(\n",
    "    model,\n",
    "    count_features=count_features,\n",
    "    category_features=category_features,\n",
    "    category_feature_names=category_feature_names,\n",
    ")\n"
   ]
  },
  {
   "cell_type": "markdown",
   "metadata": {},
   "source": [
    "## Train"
   ]
  },
  {
   "cell_type": "code",
   "execution_count": null,
   "metadata": {},
   "outputs": [],
   "source": [
    "def train(\n",
    "    train_dataloader: DataLoader,\n",
    "    model: nn.Module,\n",
    "    criterion: nn.Module,\n",
    "    optimizer: torch.optim.Optimizer,\n",
    "    log_interval: int = 10000,\n",
    "):\n",
    "    size = len(train_dataloader.dataset)\n",
    "    sum_loss = 0\n",
    "    for batch, (labels, count_features, category_features) in tqdm(\n",
    "        enumerate(train_dataloader, 1), total=len(train_dataloader), unit=\"iter\"\n",
    "    ):\n",
    "        model.train()\n",
    "        logits = model(\n",
    "            count_features=count_features,\n",
    "            category_features=category_features,\n",
    "            category_feature_names=category_feature_names,\n",
    "        )\n",
    "        loss = criterion(logits.squeeze(), labels.float())\n",
    "        optimizer.zero_grad()\n",
    "        loss.backward()\n",
    "        # to prevent gradient explosion\n",
    "        nn.utils.clip_grad_norm_(model.parameters(), 10)\n",
    "        optimizer.step()\n",
    "\n",
    "        sum_loss += loss.item()\n",
    "\n",
    "        if batch % log_interval == 0:\n",
    "            mean_loss = sum_loss / log_interval\n",
    "            tqdm.write(f\"loss: {mean_loss:>7f} [{batch * len(labels):>5d}/{size:>5d}]\")\n",
    "            sum_loss = 0\n",
    "\n",
    "\n",
    "def eval(dataloader: DataLoader, model: nn.Module, criterion: nn.Module):\n",
    "    model.eval()\n",
    "    sum_loss = 0\n",
    "    num_batches = len(dataloader)\n",
    "    labels_list = []\n",
    "    preds_list = []\n",
    "    with torch.no_grad():\n",
    "        for labels, count_features, category_features in tqdm(\n",
    "            dataloader, total=len(dataloader), unit=\"iter\"\n",
    "        ):\n",
    "            logits = model(\n",
    "                count_features=count_features,\n",
    "                category_features=category_features,\n",
    "                category_feature_names=category_feature_names,\n",
    "            )\n",
    "            preds = F.sigmoid(logits.squeeze())\n",
    "            sum_loss += criterion(preds, labels.float()).item()\n",
    "\n",
    "            labels_list.extend(labels.tolist())\n",
    "            preds_list.extend(preds.tolist())\n",
    "\n",
    "    mean_loss = sum_loss / num_batches\n",
    "    accuracy = accuracy_score(labels_list, np.round(np.asarray(preds_list)))\n",
    "    roc_auc = roc_auc_score(labels_list, preds_list)\n",
    "    pr_auc = average_precision_score(labels_list, preds_list)\n",
    "\n",
    "    return mean_loss, accuracy, roc_auc, pr_auc\n"
   ]
  },
  {
   "cell_type": "code",
   "execution_count": null,
   "metadata": {},
   "outputs": [],
   "source": [
    "epochs = 3\n",
    "criterion = nn.BCEWithLogitsLoss()\n",
    "optimizer = torch.optim.Adam(model.parameters(), lr=1e-3)\n",
    "\n",
    "for epoch in tqdm(range(epochs), unit=\"epoch\"):\n",
    "    train(train_dataloader, model, criterion, optimizer, log_interval=2000)\n",
    "    mean_loss, accuracy, roc_auc, pr_auc = eval(train_dataloader, model, criterion)\n",
    "    tqdm.write(f\"Train | avg loss: {mean_loss:.4f}, accuracy: {accuracy:.4f}, roc_auc: {roc_auc:.4f}, pr_auc: {pr_auc:.4f}\")\n",
    "    mean_loss, accuracy, roc_auc, pr_auc = eval(val_dataloader, model, criterion)\n",
    "    tqdm.write(f\"Val | avg loss: {mean_loss:.4f}, accuracy: {accuracy:.4f}, roc_auc: {roc_auc:.4f}, pr_auc: {pr_auc:.4f}\")\n"
   ]
  },
  {
   "cell_type": "code",
   "execution_count": null,
   "metadata": {},
   "outputs": [],
   "source": []
  }
 ],
 "metadata": {
  "kernelspec": {
   "display_name": ".venv",
   "language": "python",
   "name": "python3"
  },
  "language_info": {
   "codemirror_mode": {
    "name": "ipython",
    "version": 3
   },
   "file_extension": ".py",
   "mimetype": "text/x-python",
   "name": "python",
   "nbconvert_exporter": "python",
   "pygments_lexer": "ipython3",
   "version": "3.11.4"
  },
  "orig_nbformat": 4
 },
 "nbformat": 4,
 "nbformat_minor": 2
}
