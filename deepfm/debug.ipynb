{
 "cells": [
  {
   "cell_type": "code",
   "execution_count": 1,
   "metadata": {},
   "outputs": [],
   "source": [
    "%load_ext autoreload"
   ]
  },
  {
   "cell_type": "code",
   "execution_count": 2,
   "metadata": {},
   "outputs": [],
   "source": [
    "%autoreload 2\n",
    "\n",
    "import pathlib\n",
    "\n",
    "import torch\n",
    "import torch.nn as nn\n",
    "from torch.utils.data import DataLoader\n",
    "from torchinfo import summary\n",
    "from tqdm.notebook import tqdm\n",
    "import pandas as pd\n",
    "import numpy as np\n",
    "\n",
    "from dataset import CriteoAdDataset\n",
    "from model import DeepFM"
   ]
  },
  {
   "cell_type": "markdown",
   "metadata": {},
   "source": [
    "## Dataset\n"
   ]
  },
  {
   "cell_type": "code",
   "execution_count": 3,
   "metadata": {},
   "outputs": [],
   "source": [
    "data_dir = pathlib.Path(\"data/criteo-ad-data\")\n",
    "train_dataset = CriteoAdDataset(data_dir, type=\"train\")\n",
    "train_dataloader = DataLoader(train_dataset, batch_size=10, shuffle=True)\n"
   ]
  },
  {
   "cell_type": "code",
   "execution_count": 4,
   "metadata": {},
   "outputs": [
    {
     "data": {
      "text/plain": [
       "(torch.Size([10]), torch.Size([10, 13]), torch.Size([10, 26]))"
      ]
     },
     "execution_count": 4,
     "metadata": {},
     "output_type": "execute_result"
    }
   ],
   "source": [
    "label, count_features, category_features = next(iter(train_dataloader))\n",
    "label.shape, count_features.shape, category_features.shape\n"
   ]
  },
  {
   "cell_type": "markdown",
   "metadata": {},
   "source": [
    "## DeepFM"
   ]
  },
  {
   "cell_type": "code",
   "execution_count": 5,
   "metadata": {},
   "outputs": [
    {
     "data": {
      "text/plain": [
       "torch.Size([10, 1])"
      ]
     },
     "execution_count": 5,
     "metadata": {},
     "output_type": "execute_result"
    }
   ],
   "source": [
    "embedding_dims = 20\n",
    "category_feature_names = train_dataset.category_feature_columns\n",
    "category_cardinalities = train_dataset.category_cardinalities\n",
    "\n",
    "dense_embedding_in_features = len(train_dataset.count_feature_columns)\n",
    "dense_embedding_hidden_features = 30\n",
    "deep_layer_out_features = 10\n",
    "\n",
    "deepfm = DeepFM(\n",
    "    embedding_dims=embedding_dims,\n",
    "    category_cardinalities=category_cardinalities,\n",
    "    dense_embedding_in_features=dense_embedding_in_features,\n",
    "    dense_embedding_hidden_features=dense_embedding_hidden_features,\n",
    "    deep_layer_out_features=deep_layer_out_features,\n",
    ")\n",
    "\n",
    "logits = deepfm(\n",
    "    count_features=count_features,\n",
    "    category_features=category_features,\n",
    "    category_feature_names=category_feature_names,\n",
    ")\n",
    "logits.shape\n"
   ]
  },
  {
   "cell_type": "code",
   "execution_count": 6,
   "metadata": {},
   "outputs": [
    {
     "name": "stdout",
     "output_type": "stream",
     "text": [
      "DeepFM(\n",
      "  (sparse_embedding): SparseEmbedding(\n",
      "    (category_embeddings): ModuleDict(\n",
      "      (category_feature_0): EmbeddingBag(541, 20, mode='mean')\n",
      "      (category_feature_1): EmbeddingBag(497, 20, mode='mean')\n",
      "      (category_feature_10): EmbeddingBag(3799, 20, mode='mean')\n",
      "      (category_feature_11): EmbeddingBag(41312, 20, mode='mean')\n",
      "      (category_feature_12): EmbeddingBag(2796, 20, mode='mean')\n",
      "      (category_feature_13): EmbeddingBag(26, 20, mode='mean')\n",
      "      (category_feature_14): EmbeddingBag(5238, 20, mode='mean')\n",
      "      (category_feature_15): EmbeddingBag(34617, 20, mode='mean')\n",
      "      (category_feature_16): EmbeddingBag(10, 20, mode='mean')\n",
      "      (category_feature_17): EmbeddingBag(2548, 20, mode='mean')\n",
      "      (category_feature_18): EmbeddingBag(1303, 20, mode='mean')\n",
      "      (category_feature_19): EmbeddingBag(4, 20, mode='mean')\n",
      "      (category_feature_2): EmbeddingBag(43870, 20, mode='mean')\n",
      "      (category_feature_20): EmbeddingBag(38618, 20, mode='mean')\n",
      "      (category_feature_21): EmbeddingBag(11, 20, mode='mean')\n",
      "      (category_feature_22): EmbeddingBag(14, 20, mode='mean')\n",
      "      (category_feature_23): EmbeddingBag(12335, 20, mode='mean')\n",
      "      (category_feature_24): EmbeddingBag(51, 20, mode='mean')\n",
      "      (category_feature_25): EmbeddingBag(9527, 20, mode='mean')\n",
      "      (category_feature_3): EmbeddingBag(25184, 20, mode='mean')\n",
      "      (category_feature_4): EmbeddingBag(145, 20, mode='mean')\n",
      "      (category_feature_5): EmbeddingBag(12, 20, mode='mean')\n",
      "      (category_feature_6): EmbeddingBag(7623, 20, mode='mean')\n",
      "      (category_feature_7): EmbeddingBag(257, 20, mode='mean')\n",
      "      (category_feature_8): EmbeddingBag(3, 20, mode='mean')\n",
      "      (category_feature_9): EmbeddingBag(10997, 20, mode='mean')\n",
      "    )\n",
      "  )\n",
      "  (dense_embedding): DenseEmbedding(\n",
      "    (model): Sequential(\n",
      "      (0): Linear(in_features=13, out_features=30, bias=True)\n",
      "      (1): ReLU()\n",
      "      (2): Linear(in_features=30, out_features=20, bias=True)\n",
      "      (3): ReLU()\n",
      "    )\n",
      "  )\n",
      "  (deep_layer): DeepLayer(\n",
      "    (dense_module): Sequential(\n",
      "      (0): Linear(in_features=540, out_features=10, bias=True)\n",
      "      (1): ReLU()\n",
      "    )\n",
      "  )\n",
      "  (fm_layer): FactorizedMachineLayer()\n",
      "  (logits_layer): LogitsLayer(\n",
      "    (model): Sequential(\n",
      "      (0): Linear(in_features=31, out_features=1, bias=True)\n",
      "    )\n",
      "  )\n",
      ")\n"
     ]
    }
   ],
   "source": [
    "print(deepfm)"
   ]
  },
  {
   "cell_type": "code",
   "execution_count": 7,
   "metadata": {},
   "outputs": [
    {
     "data": {
      "text/plain": [
       "=================================================================\n",
       "Layer (type:depth-idx)                   Param #\n",
       "=================================================================\n",
       "DeepFM                                   --\n",
       "├─SparseEmbedding: 1-1                   --\n",
       "│    └─ModuleDict: 2-1                   --\n",
       "│    │    └─EmbeddingBag: 3-1            10,820\n",
       "│    │    └─EmbeddingBag: 3-2            9,940\n",
       "│    │    └─EmbeddingBag: 3-3            75,980\n",
       "│    │    └─EmbeddingBag: 3-4            826,240\n",
       "│    │    └─EmbeddingBag: 3-5            55,920\n",
       "│    │    └─EmbeddingBag: 3-6            520\n",
       "│    │    └─EmbeddingBag: 3-7            104,760\n",
       "│    │    └─EmbeddingBag: 3-8            692,340\n",
       "│    │    └─EmbeddingBag: 3-9            200\n",
       "│    │    └─EmbeddingBag: 3-10           50,960\n",
       "│    │    └─EmbeddingBag: 3-11           26,060\n",
       "│    │    └─EmbeddingBag: 3-12           80\n",
       "│    │    └─EmbeddingBag: 3-13           877,400\n",
       "│    │    └─EmbeddingBag: 3-14           772,360\n",
       "│    │    └─EmbeddingBag: 3-15           220\n",
       "│    │    └─EmbeddingBag: 3-16           280\n",
       "│    │    └─EmbeddingBag: 3-17           246,700\n",
       "│    │    └─EmbeddingBag: 3-18           1,020\n",
       "│    │    └─EmbeddingBag: 3-19           190,540\n",
       "│    │    └─EmbeddingBag: 3-20           503,680\n",
       "│    │    └─EmbeddingBag: 3-21           2,900\n",
       "│    │    └─EmbeddingBag: 3-22           240\n",
       "│    │    └─EmbeddingBag: 3-23           152,460\n",
       "│    │    └─EmbeddingBag: 3-24           5,140\n",
       "│    │    └─EmbeddingBag: 3-25           60\n",
       "│    │    └─EmbeddingBag: 3-26           219,940\n",
       "├─DenseEmbedding: 1-2                    --\n",
       "│    └─Sequential: 2-2                   --\n",
       "│    │    └─Linear: 3-27                 420\n",
       "│    │    └─ReLU: 3-28                   --\n",
       "│    │    └─Linear: 3-29                 620\n",
       "│    │    └─ReLU: 3-30                   --\n",
       "├─DeepLayer: 1-3                         --\n",
       "│    └─Sequential: 2-3                   --\n",
       "│    │    └─Linear: 3-31                 5,410\n",
       "│    │    └─ReLU: 3-32                   --\n",
       "├─FactorizedMachineLayer: 1-4            --\n",
       "├─LogitsLayer: 1-5                       --\n",
       "│    └─Sequential: 2-4                   --\n",
       "│    │    └─Linear: 3-33                 32\n",
       "=================================================================\n",
       "Total params: 4,833,242\n",
       "Trainable params: 4,833,242\n",
       "Non-trainable params: 0\n",
       "================================================================="
      ]
     },
     "execution_count": 7,
     "metadata": {},
     "output_type": "execute_result"
    }
   ],
   "source": [
    "summary(\n",
    "    deepfm,\n",
    "    count_features=count_features,\n",
    "    category_features=category_features,\n",
    "    category_feature_names=category_feature_names,\n",
    ")\n"
   ]
  }
 ],
 "metadata": {
  "kernelspec": {
   "display_name": ".venv",
   "language": "python",
   "name": "python3"
  },
  "language_info": {
   "codemirror_mode": {
    "name": "ipython",
    "version": 3
   },
   "file_extension": ".py",
   "mimetype": "text/x-python",
   "name": "python",
   "nbconvert_exporter": "python",
   "pygments_lexer": "ipython3",
   "version": "3.11.4"
  },
  "orig_nbformat": 4
 },
 "nbformat": 4,
 "nbformat_minor": 2
}
