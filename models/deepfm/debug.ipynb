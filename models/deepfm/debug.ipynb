{
 "cells": [
  {
   "cell_type": "code",
   "execution_count": null,
   "metadata": {},
   "outputs": [],
   "source": [
    "%load_ext autoreload"
   ]
  },
  {
   "cell_type": "code",
   "execution_count": null,
   "metadata": {},
   "outputs": [],
   "source": [
    "%autoreload 2\n",
    "\n",
    "import pathlib\n",
    "\n",
    "import torch\n",
    "import torch.nn as nn\n",
    "from torch.utils.data import DataLoader\n",
    "from torchinfo import summary\n",
    "from tqdm.notebook import tqdm\n",
    "import pandas as pd\n",
    "import numpy as np\n",
    "\n",
    "import sys\n",
    "sys.path.append('../..')\n",
    "\n",
    "from dataset import CriteoAdDataset\n",
    "from models import DeepFM"
   ]
  },
  {
   "cell_type": "markdown",
   "metadata": {},
   "source": [
    "## Dataset\n"
   ]
  },
  {
   "cell_type": "code",
   "execution_count": null,
   "metadata": {},
   "outputs": [],
   "source": [
    "data_dir = pathlib.Path(\"data/criteo-ad-data\")\n",
    "train_dataset = CriteoAdDataset(data_dir, type=\"train\")\n",
    "train_dataloader = DataLoader(train_dataset, batch_size=10, shuffle=True)\n"
   ]
  },
  {
   "cell_type": "code",
   "execution_count": null,
   "metadata": {},
   "outputs": [],
   "source": [
    "label, count_features, category_features = next(iter(train_dataloader))\n",
    "label.shape, count_features.shape, category_features.shape\n"
   ]
  },
  {
   "cell_type": "markdown",
   "metadata": {},
   "source": [
    "## DeepFM"
   ]
  },
  {
   "cell_type": "code",
   "execution_count": null,
   "metadata": {},
   "outputs": [],
   "source": [
    "embedding_dims = 20\n",
    "category_feature_names = train_dataset.category_feature_columns\n",
    "category_cardinalities = train_dataset.category_cardinalities\n",
    "\n",
    "dense_embedding_in_features = len(train_dataset.count_feature_columns)\n",
    "dense_embedding_hidden_features = 30\n",
    "deep_layer_out_features = 10\n",
    "\n",
    "deepfm = DeepFM(\n",
    "    embedding_dims=embedding_dims,\n",
    "    category_cardinalities=category_cardinalities,\n",
    "    dense_embedding_in_features=dense_embedding_in_features,\n",
    "    dense_embedding_hidden_features=dense_embedding_hidden_features,\n",
    "    deep_layer_out_features=deep_layer_out_features,\n",
    ")\n",
    "\n",
    "logits = deepfm(\n",
    "    count_features=count_features,\n",
    "    category_features=category_features,\n",
    "    category_feature_names=category_feature_names,\n",
    ")\n",
    "logits.shape\n"
   ]
  },
  {
   "cell_type": "code",
   "execution_count": null,
   "metadata": {},
   "outputs": [],
   "source": [
    "print(deepfm)"
   ]
  },
  {
   "cell_type": "code",
   "execution_count": null,
   "metadata": {},
   "outputs": [],
   "source": [
    "summary(\n",
    "    deepfm,\n",
    "    count_features=count_features,\n",
    "    category_features=category_features,\n",
    "    category_feature_names=category_feature_names,\n",
    ")\n"
   ]
  }
 ],
 "metadata": {
  "kernelspec": {
   "display_name": ".venv",
   "language": "python",
   "name": "python3"
  },
  "language_info": {
   "codemirror_mode": {
    "name": "ipython",
    "version": 3
   },
   "file_extension": ".py",
   "mimetype": "text/x-python",
   "name": "python",
   "nbconvert_exporter": "python",
   "pygments_lexer": "ipython3",
   "version": "3.11.4"
  },
  "orig_nbformat": 4
 },
 "nbformat": 4,
 "nbformat_minor": 2
}
